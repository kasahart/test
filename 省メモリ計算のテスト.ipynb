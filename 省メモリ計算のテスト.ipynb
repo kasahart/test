{
  "nbformat": 4,
  "nbformat_minor": 0,
  "metadata": {
    "colab": {
      "provenance": [],
      "authorship_tag": "ABX9TyPQsHRN0pq4aH920crHsEPD",
      "include_colab_link": true
    },
    "kernelspec": {
      "name": "python3",
      "display_name": "Python 3"
    },
    "language_info": {
      "name": "python"
    }
  },
  "cells": [
    {
      "cell_type": "markdown",
      "metadata": {
        "id": "view-in-github",
        "colab_type": "text"
      },
      "source": [
        "<a href=\"https://colab.research.google.com/github/kasahart/test/blob/main/%E7%9C%81%E3%83%A1%E3%83%A2%E3%83%AA%E8%A8%88%E7%AE%97%E3%81%AE%E3%83%86%E3%82%B9%E3%83%88.ipynb\" target=\"_parent\"><img src=\"https://colab.research.google.com/assets/colab-badge.svg\" alt=\"Open In Colab\"/></a>"
      ]
    },
    {
      "cell_type": "code",
      "source": [
        "import numpy as np\n",
        "import h5py\n",
        "import dask.array as da\n",
        "import gc\n",
        "import os\n",
        "\n",
        "### データ準備 ###\n",
        "filename = 'data_compare.h5'\n",
        "n, w, h = 1000, 500, 500\n",
        "dtype = np.float64\n",
        "\n",
        "# HDF5ファイル作成 (存在しなければ)\n",
        "if not os.path.exists(filename):\n",
        "    with h5py.File(filename, 'w') as f:\n",
        "        dset = f.create_dataset('data', shape=(n, w, h), dtype=dtype, chunks=(100, w, h))\n",
        "        data_array = np.random.rand(n, w, h).astype(dtype)\n",
        "        dset[:] = data_array\n",
        "    del data_array\n",
        "    gc.collect()\n",
        "\n",
        "# 全読み込み計算（基準となる計算）\n",
        "with h5py.File(filename, 'r') as f:\n",
        "    full_data = f['data'][:]\n",
        "mean_full = np.mean(full_data, axis=0)\n",
        "var_full = np.var(full_data, axis=0)\n",
        "del full_data\n",
        "gc.collect()\n",
        "\n",
        "### Welford法での計算 ###\n",
        "with h5py.File(filename, 'r') as f:\n",
        "    dset = f['data']\n",
        "    mean_w = np.zeros((w, h), dtype=dtype)\n",
        "    M2 = np.zeros((w, h), dtype=dtype)\n",
        "    count = 0\n",
        "\n",
        "    # 中間バッファ\n",
        "    delta = np.zeros((w, h), dtype=dtype)\n",
        "    delta2 = np.zeros((w, h), dtype=dtype)\n",
        "\n",
        "    chunk_size = 100\n",
        "    for start in range(0, n, chunk_size):\n",
        "        end = min(start + chunk_size, n)\n",
        "        chunk = dset[start:end, :, :]\n",
        "        for i in range(chunk.shape[0]):\n",
        "            x = chunk[i, :, :]\n",
        "            count += 1\n",
        "            np.subtract(x, mean_w, out=delta)\n",
        "            mean_w += delta / count\n",
        "            np.subtract(x, mean_w, out=delta2)\n",
        "            np.multiply(delta, delta2, out=delta2)\n",
        "            M2 += delta2\n",
        "        del chunk\n",
        "        gc.collect()\n",
        "\n",
        "    var_w = M2 / (count - 1)\n",
        "\n",
        "### Daskでの計算 ###\n",
        "with h5py.File(filename, 'r') as f:\n",
        "    dset = f['data']\n",
        "    x = da.from_array(dset, chunks=(100, w, h))\n",
        "    mean_d = x.mean(axis=0).compute()\n",
        "    var_d = x.var(axis=0).compute()\n",
        "\n",
        "### 誤差確認 ###\n",
        "# 絶対誤差\n",
        "mean_diff_w = np.abs(mean_full - mean_w).max()\n",
        "var_diff_w = np.abs(var_full - var_w).max()\n",
        "\n",
        "mean_diff_d = np.abs(mean_full - mean_d).max()\n",
        "var_diff_d = np.abs(var_full - var_d).max()\n",
        "\n",
        "print(\"比較結果（最大絶対誤差）\")\n",
        "print(\"Welford法 vs Full:\")\n",
        "print(\"  Mean max abs diff:\", mean_diff_w)\n",
        "print(\"  Var max abs diff: \", var_diff_w)\n",
        "\n",
        "print(\"Dask vs Full:\")\n",
        "print(\"  Mean max abs diff:\", mean_diff_d)\n",
        "print(\"  Var max abs diff: \", var_diff_d)\n",
        "\n",
        "# 必要に応じて、相対誤差などもチェック可能\n",
        "mean_rel_diff_w = mean_diff_w / np.abs(mean_full).max()\n",
        "var_rel_diff_w = var_diff_w / np.abs(var_full).max()\n",
        "mean_rel_diff_d = mean_diff_d / np.abs(mean_full).max()\n",
        "var_rel_diff_d = var_diff_d / np.abs(var_full).max()\n",
        "\n",
        "print(\"\\n比較結果（最大相対誤差）\")\n",
        "print(\"Welford法 vs Full:\")\n",
        "print(\"  Mean max relative diff:\", mean_rel_diff_w)\n",
        "print(\"  Var max relative diff: \", var_rel_diff_w)\n",
        "\n",
        "print(\"Dask vs Full:\")\n",
        "print(\"  Mean max relative diff:\", mean_rel_diff_d)\n",
        "print(\"  Var max relative diff: \", var_rel_diff_d)\n"
      ],
      "metadata": {
        "colab": {
          "base_uri": "https://localhost:8080/"
        },
        "id": "YNzMF4Xl9oAJ",
        "outputId": "1ef3f7ea-07e2-4441-8e51-bd74edec356d"
      },
      "execution_count": null,
      "outputs": [
        {
          "output_type": "stream",
          "name": "stdout",
          "text": [
            "比較結果（最大絶対誤差）\n",
            "Welford法 vs Full:\n",
            "  Mean max abs diff: 2.886579864025407e-15\n",
            "  Var max abs diff:  9.457210975327701e-05\n",
            "Dask vs Full:\n",
            "  Mean max abs diff: 1.887379141862766e-15\n",
            "  Var max abs diff:  3.885780586188048e-16\n",
            "\n",
            "比較結果（最大相対誤差）\n",
            "Welford法 vs Full:\n",
            "  Mean max relative diff: 5.295941364890668e-15\n",
            "  Var max relative diff:  0.0010010010010006742\n",
            "Dask vs Full:\n",
            "  Mean max relative diff: 3.462730892428514e-15\n",
            "  Var max relative diff:  4.112914755302307e-15\n"
          ]
        }
      ]
    },
    {
      "cell_type": "code",
      "source": [
        "import numpy as np\n",
        "import dask.array as da\n",
        "import os\n",
        "import gc\n",
        "import h5py\n",
        "import tqdm\n",
        "import psutil\n",
        "import time\n",
        "process = psutil.Process(os.getpid())\n",
        "\n",
        "# テスト用に巨大なバイナリファイルを作成する（存在しない場合）\n",
        "filename = 'data_compare.h5'\n",
        "n, w, h = 2000, 500, 500\n",
        "dtype = np.float64\n",
        "\n",
        "mem_info = process.memory_info()\n",
        "print(f\"初期メモリ - RSS: {mem_info.rss / (1024**2):.2f} MB\")\n",
        "# HDF5ファイル作成\n",
        "with h5py.File(filename, 'w') as f:\n",
        "    # dset = f.create_dataset('data', shape=(n, w, h), dtype=dtype, chunks=(100, w, h))\n",
        "    # for i in tqdm.tqdm(range(n)):\n",
        "    #     data_array = np.zeros((w, h)).astype(dtype) + float(i)\n",
        "    #     dset[i] = data_array\n",
        "\n",
        "    # 初期サイズと最大サイズを指定してデータセットを作成\n",
        "    dset = f.create_dataset(\n",
        "        'data',\n",
        "        shape=(n, w, h),  # 初期サイズ\n",
        "        # maxshape=(n, w, h),  # 最大サイズ (第一軸を無制限にリサイズ可能)\n",
        "        dtype=np.float64,\n",
        "        chunks=(1, w, h),\n",
        "        compression=None\n",
        "    )\n",
        "\n",
        "    for i in tqdm.tqdm(range(n-10)):\n",
        "        data_array = np.zeros((w, h)).astype(dtype) + float(i)\n",
        "        dset[i] = data_array\n",
        "\n",
        "    dset.resize((n-10, w, h))\n",
        "\n",
        "gc.collect()\n",
        "\n",
        "mem_info = process.memory_info()\n",
        "print(f\"データ書き込み後 - RSS: {mem_info.rss / (1024**2):.2f} MB\")"
      ],
      "metadata": {
        "colab": {
          "base_uri": "https://localhost:8080/"
        },
        "id": "tD_F7mxqBQ3S",
        "outputId": "b459f202-606a-494b-c2e2-d5ce578565d3"
      },
      "execution_count": 1,
      "outputs": [
        {
          "output_type": "stream",
          "name": "stdout",
          "text": [
            "初期メモリ - RSS: 124.84 MB\n"
          ]
        },
        {
          "output_type": "stream",
          "name": "stderr",
          "text": [
            "100%|██████████| 1990/1990 [00:41<00:00, 48.26it/s]"
          ]
        },
        {
          "output_type": "stream",
          "name": "stdout",
          "text": [
            "データ書き込み後 - RSS: 136.61 MB\n"
          ]
        },
        {
          "output_type": "stream",
          "name": "stderr",
          "text": [
            "\n"
          ]
        }
      ]
    },
    {
      "cell_type": "code",
      "source": [
        "# テスト用設定\n",
        "mem_info = process.memory_info()\n",
        "print(f\"初期メモリ - RSS: {mem_info.rss / (1024**2):.2f} MB\")\n",
        "\n",
        "# 計算時間測定用の開始時刻\n",
        "start_time = time.time()\n",
        "\n",
        "### Daskでの計算 ###\n",
        "with h5py.File(filename, 'r') as f:\n",
        "    dset = f['data']\n",
        "    x = da.from_array(dset, chunks=(100, w, h))\n",
        "\n",
        "    # Dask Arrayに変換 (この処理自体は軽量だが一応測定)\n",
        "    mid_time = time.time()\n",
        "    mem_info = process.memory_info()\n",
        "    print(f\"Dask Arrayに変換 - RSS: {mem_info.rss / (1024**2):.2f} MB\")\n",
        "    print(f\"Dask Arrayに変換までの処理時間: {mid_time - start_time:.2f}秒\")\n",
        "\n",
        "    # Daskで平均・分散計算\n",
        "    start_calc = time.time()\n",
        "\n",
        "    mean = x.mean(axis=0).compute()\n",
        "    variance = x.var(axis=0).compute()\n",
        "\n",
        "\n",
        "    end_calc = time.time()\n",
        "    print(\"mean shape:\", mean.shape)\n",
        "    print(\"variance shape:\", variance.shape)\n",
        "    print(\"Mean and variance calculation completed successfully.\")\n",
        "\n",
        "    mem_info = process.memory_info()\n",
        "    print(f\"平均分散計算 - RSS: {mem_info.rss / (1024**2):.2f} MB\")\n",
        "    print(f\"平均・分散計算時間: {end_calc - start_calc:.2f}秒\")\n",
        "\n",
        "# # 標準化計算\n",
        "# start_std = time.time()\n",
        "# std_dev = da.sqrt(variance)  # (w, h) shape\n",
        "# x_memmap = da.from_array(memmap_array, chunks=(100, w, h))\n",
        "# x_standardized = (x_memmap - mean) / std_dev\n",
        "\n",
        "# # HDF5へ書き出し (計算とI/Oをトリガー)\n",
        "# filename = 'output2.h5'\n",
        "# dset_name = '/standardized_data'\n",
        "# da.to_hdf5(filename, dset_name, x_standardized)\n",
        "\n",
        "# end_std = time.time()\n",
        "# mem_info = process.memory_info()\n",
        "# print(f\"標準化計算 - RSS: {mem_info.rss / (1024**2):.2f} MB\")\n",
        "# print(f\"標準化計算および書き出し時間: {end_std - start_std:.2f}秒\")\n"
      ],
      "metadata": {
        "colab": {
          "base_uri": "https://localhost:8080/"
        },
        "id": "tQml7KNAGEuU",
        "outputId": "36446ac2-16c3-4f12-d82f-5ad93de73006"
      },
      "execution_count": 2,
      "outputs": [
        {
          "output_type": "stream",
          "name": "stdout",
          "text": [
            "初期メモリ - RSS: 136.61 MB\n",
            "Dask Arrayに変換 - RSS: 136.61 MB\n",
            "Dask Arrayに変換までの処理時間: 0.01秒\n",
            "mean shape: (500, 500)\n",
            "variance shape: (500, 500)\n",
            "Mean and variance calculation completed successfully.\n",
            "平均分散計算 - RSS: 171.25 MB\n",
            "平均・分散計算時間: 9.47秒\n"
          ]
        }
      ]
    },
    {
      "cell_type": "code",
      "source": [
        "# =======================\n",
        "# 通常の平均・分散との比較\n",
        "# =======================\n",
        "# 全データを一括ロードしてnumpyで平均・分散を計算\n",
        "mem_info = process.memory_info()\n",
        "print(f\"初期メモリ - RSS: {mem_info.rss / (1024**2):.2f} MB\")\n",
        "start_time = time.time()\n",
        "\n",
        "# 全読み込み計算（基準となる計算）\n",
        "with h5py.File(filename, 'r') as f:\n",
        "    full_data = f['data'][:]\n",
        "\n",
        "mid_time = time.time()\n",
        "mem_info = process.memory_info()\n",
        "print(f\"読み込み - RSS: {mem_info.rss / (1024**2):.2f} MB\")\n",
        "print(f\"読み込みまでの処理時間: {mid_time - start_time:.2f}秒\")\n",
        "\n",
        "mean_full = np.mean(full_data, axis=0)\n",
        "var_full = np.var(full_data, axis=0)\n",
        "\n",
        "mid_time = time.time()\n",
        "mem_info = process.memory_info()\n",
        "print(f\"平均分散計算 - RSS: {mem_info.rss / (1024**2):.2f} MB\")\n",
        "print(f\"平均分散計算までの処理時間: {mid_time - start_time:.2f}秒\")\n",
        "\n",
        "# 絶対誤差計算\n",
        "mean_diff = np.abs(mean_full - mean).max()\n",
        "var_diff = np.abs(var_full - variance).max()\n",
        "\n",
        "end_compare = time.time()\n",
        "\n",
        "print(\"通常計算との比較結果:\")\n",
        "print(f\"Mean max abs diff: {mean_diff}\")\n",
        "print(f\"Var max abs diff : {var_diff}\")"
      ],
      "metadata": {
        "colab": {
          "base_uri": "https://localhost:8080/"
        },
        "id": "PT3Z5G5RIVNj",
        "outputId": "b7e59b20-1811-41ec-dcfc-d3c15daaa739"
      },
      "execution_count": 3,
      "outputs": [
        {
          "output_type": "stream",
          "name": "stdout",
          "text": [
            "初期メモリ - RSS: 171.98 MB\n",
            "読み込み - RSS: 3972.91 MB\n",
            "読み込みまでの処理時間: 3.01秒\n",
            "平均分散計算 - RSS: 3966.95 MB\n",
            "平均分散計算までの処理時間: 10.92秒\n",
            "通常計算との比較結果:\n",
            "Mean max abs diff: 0.0\n",
            "Var max abs diff : 0.0\n"
          ]
        }
      ]
    },
    {
      "cell_type": "code",
      "source": [
        "full_data.shape"
      ],
      "metadata": {
        "id": "yr3Q5ZwsVdGI",
        "colab": {
          "base_uri": "https://localhost:8080/"
        },
        "outputId": "770a512f-2383-49ce-e3bb-c85bdb915a3a"
      },
      "execution_count": 4,
      "outputs": [
        {
          "output_type": "execute_result",
          "data": {
            "text/plain": [
              "(1990, 500, 500)"
            ]
          },
          "metadata": {},
          "execution_count": 4
        }
      ]
    },
    {
      "cell_type": "code",
      "source": [],
      "metadata": {
        "id": "CY5IIL03ZFWp"
      },
      "execution_count": null,
      "outputs": []
    }
  ]
}